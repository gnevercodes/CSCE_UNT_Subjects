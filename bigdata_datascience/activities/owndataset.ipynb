{
  "nbformat": 4,
  "nbformat_minor": 0,
  "metadata": {
    "colab": {
      "provenance": []
    },
    "kernelspec": {
      "name": "python3",
      "display_name": "Python 3"
    },
    "language_info": {
      "name": "python"
    }
  },
  "cells": [
    {
      "cell_type": "code",
      "source": [
        "!pip install pyspark"
      ],
      "metadata": {
        "id": "gEHNWHzFRD1F",
        "colab": {
          "base_uri": "https://localhost:8080/"
        },
        "outputId": "870130ab-8789-4d95-dfe2-d9aeb40dac80"
      },
      "execution_count": 29,
      "outputs": [
        {
          "output_type": "stream",
          "name": "stdout",
          "text": [
            "Requirement already satisfied: pyspark in /usr/local/lib/python3.10/dist-packages (3.5.0)\n",
            "Requirement already satisfied: py4j==0.10.9.7 in /usr/local/lib/python3.10/dist-packages (from pyspark) (0.10.9.7)\n"
          ]
        }
      ]
    },
    {
      "cell_type": "code",
      "source": [
        "import pyspark\n",
        "from pyspark.sql import SparkSession"
      ],
      "metadata": {
        "id": "MabMeV6DRjhG"
      },
      "execution_count": 30,
      "outputs": []
    },
    {
      "cell_type": "code",
      "source": [
        "# initialize the spark session\n",
        "spark = SparkSession.builder.appName('taask02').getOrCreate()"
      ],
      "metadata": {
        "id": "uZQlmgkiR71L"
      },
      "execution_count": 31,
      "outputs": []
    },
    {
      "cell_type": "code",
      "source": [
        "spark"
      ],
      "metadata": {
        "colab": {
          "base_uri": "https://localhost:8080/",
          "height": 216
        },
        "id": "S0K-MbGqS6yQ",
        "outputId": "6c3c2fea-4cd4-4601-9642-7795aa8592d4"
      },
      "execution_count": 32,
      "outputs": [
        {
          "output_type": "execute_result",
          "data": {
            "text/plain": [
              "<pyspark.sql.session.SparkSession at 0x7c643400dd50>"
            ],
            "text/html": [
              "\n",
              "            <div>\n",
              "                <p><b>SparkSession - in-memory</b></p>\n",
              "                \n",
              "        <div>\n",
              "            <p><b>SparkContext</b></p>\n",
              "\n",
              "            <p><a href=\"http://fee073690550:4040\">Spark UI</a></p>\n",
              "\n",
              "            <dl>\n",
              "              <dt>Version</dt>\n",
              "                <dd><code>v3.5.0</code></dd>\n",
              "              <dt>Master</dt>\n",
              "                <dd><code>local[*]</code></dd>\n",
              "              <dt>AppName</dt>\n",
              "                <dd><code>taask02</code></dd>\n",
              "            </dl>\n",
              "        </div>\n",
              "        \n",
              "            </div>\n",
              "        "
            ]
          },
          "metadata": {},
          "execution_count": 32
        }
      ]
    },
    {
      "cell_type": "code",
      "source": [
        "dataframe=spark.read.option('header','true').csv('proper_spark.csv',inferSchema=True)"
      ],
      "metadata": {
        "id": "SCUq1aItTN_T"
      },
      "execution_count": 38,
      "outputs": []
    },
    {
      "cell_type": "code",
      "source": [
        "dataframe.show()"
      ],
      "metadata": {
        "colab": {
          "base_uri": "https://localhost:8080/"
        },
        "id": "CdjHnF6BTteg",
        "outputId": "628ec0a2-0195-42ea-ef21-a2976f28baf7"
      },
      "execution_count": 39,
      "outputs": [
        {
          "output_type": "stream",
          "name": "stdout",
          "text": [
            "+----+----+-----+----+-----+----+\n",
            "|one |two |three|four|five |six |\n",
            "+----+----+-----+----+-----+----+\n",
            "|   1|  11|   21|  51|   52| 101|\n",
            "|  22|  22|   22|  22|   53| 102|\n",
            "|  22|  33|    3|  22|   54|1030|\n",
            "| 333|  44|  322|  33|   55|  22|\n",
            "|NULL|  22|   11|  88|   56| 201|\n",
            "|  88|NULL|   22|  36|    6| 202|\n",
            "|   3|  22|   54|NULL|   77| 222|\n",
            "|   3|  33| NULL|  88|   66| 203|\n",
            "|  32|  22|   33|  61|   88| 244|\n",
            "|   2|  11|   46|  33|   99| 255|\n",
            "+----+----+-----+----+-----+----+\n",
            "\n"
          ]
        }
      ]
    },
    {
      "cell_type": "code",
      "source": [
        "dataframe.printSchema()"
      ],
      "metadata": {
        "colab": {
          "base_uri": "https://localhost:8080/"
        },
        "id": "iwVMvj9IT2VL",
        "outputId": "dc141c69-dea9-45f8-a653-5b90a2a4ab96"
      },
      "execution_count": 40,
      "outputs": [
        {
          "output_type": "stream",
          "name": "stdout",
          "text": [
            "root\n",
            " |-- one : integer (nullable = true)\n",
            " |-- two : integer (nullable = true)\n",
            " |-- three: integer (nullable = true)\n",
            " |-- four: integer (nullable = true)\n",
            " |-- five : integer (nullable = true)\n",
            " |-- six : integer (nullable = true)\n",
            "\n"
          ]
        }
      ]
    },
    {
      "cell_type": "code",
      "source": [
        "dataframe.describe().show()"
      ],
      "metadata": {
        "colab": {
          "base_uri": "https://localhost:8080/"
        },
        "id": "zricWqypUgZG",
        "outputId": "abe43f9f-8260-4cc3-f36c-cc4ce2a6d262"
      },
      "execution_count": 41,
      "outputs": [
        {
          "output_type": "stream",
          "name": "stdout",
          "text": [
            "+-------+------------------+------------------+------------------+-----------------+------------------+-----------------+\n",
            "|summary|              one |              two |             three|             four|             five |             six |\n",
            "+-------+------------------+------------------+------------------+-----------------+------------------+-----------------+\n",
            "|  count|                 9|                 9|                 9|                9|                10|               10|\n",
            "|   mean| 56.22222222222222|24.444444444444443|59.333333333333336|48.22222222222222|              60.6|            258.2|\n",
            "| stddev|107.35429401958939| 10.69007847388305| 99.78727373768662|25.79620988526114|25.237538178937605|281.1831352616219|\n",
            "|    min|                 1|                11|                 3|               22|                 6|               22|\n",
            "|    max|               333|                44|               322|               88|                99|             1030|\n",
            "+-------+------------------+------------------+------------------+-----------------+------------------+-----------------+\n",
            "\n"
          ]
        }
      ]
    },
    {
      "cell_type": "code",
      "source": [
        "dataframe.select(['one ','three']).show()"
      ],
      "metadata": {
        "id": "K5ix3OGVPBRZ",
        "outputId": "7a7e1257-d323-4868-8893-197c27749a84",
        "colab": {
          "base_uri": "https://localhost:8080/"
        }
      },
      "execution_count": 43,
      "outputs": [
        {
          "output_type": "stream",
          "name": "stdout",
          "text": [
            "+----+-----+\n",
            "|one |three|\n",
            "+----+-----+\n",
            "|   1|   21|\n",
            "|  22|   22|\n",
            "|  22|    3|\n",
            "| 333|  322|\n",
            "|NULL|   11|\n",
            "|  88|   22|\n",
            "|   3|   54|\n",
            "|   3| NULL|\n",
            "|  32|   33|\n",
            "|   2|   46|\n",
            "+----+-----+\n",
            "\n"
          ]
        }
      ]
    },
    {
      "cell_type": "code",
      "source": [
        "dataframe.select(dataframe.columns[2:5]).show()"
      ],
      "metadata": {
        "id": "r-3F5gX3qsDx",
        "outputId": "d73bb2fa-198a-407e-e500-e099db20c309",
        "colab": {
          "base_uri": "https://localhost:8080/"
        }
      },
      "execution_count": 58,
      "outputs": [
        {
          "output_type": "stream",
          "name": "stdout",
          "text": [
            "+-----+----+-----+\n",
            "|three|four|five |\n",
            "+-----+----+-----+\n",
            "|   21|  51|   52|\n",
            "|   22|  22|   53|\n",
            "|    3|  22|   54|\n",
            "|  322|  33|   55|\n",
            "|   11|  88|   56|\n",
            "|   22|  36|    6|\n",
            "|   54|NULL|   77|\n",
            "| NULL|  88|   66|\n",
            "|   33|  61|   88|\n",
            "|   46|  33|   99|\n",
            "+-----+----+-----+\n",
            "\n"
          ]
        }
      ]
    },
    {
      "cell_type": "code",
      "source": [
        "from pyspark.sql.functions import col , when"
      ],
      "metadata": {
        "id": "4wUx0u46sflg"
      },
      "execution_count": 53,
      "outputs": []
    },
    {
      "cell_type": "code",
      "source": [
        "dataframe = dataframe.withColumn(\"new_six_col\",when(col(\"four\")>20,1).otherwise(0))\n",
        "dataframe=dataframe.withColumn(\"new_seven\",col(\"five \")*1)\n",
        "dataframe.show()"
      ],
      "metadata": {
        "id": "FoWJDmkMrXBH",
        "outputId": "fc9d1b92-fb71-40dd-9d5e-0c9318a2d698",
        "colab": {
          "base_uri": "https://localhost:8080/"
        }
      },
      "execution_count": 61,
      "outputs": [
        {
          "output_type": "stream",
          "name": "stdout",
          "text": [
            "+----+----+-----+----+-----+----+-----------+---------+\n",
            "|one |two |three|four|five |six |new_six_col|new_seven|\n",
            "+----+----+-----+----+-----+----+-----------+---------+\n",
            "|   1|  11|   21|  51|   52| 101|          1|       52|\n",
            "|  22|  22|   22|  22|   53| 102|          1|       53|\n",
            "|  22|  33|    3|  22|   54|1030|          1|       54|\n",
            "| 333|  44|  322|  33|   55|  22|          1|       55|\n",
            "|NULL|  22|   11|  88|   56| 201|          1|       56|\n",
            "|  88|NULL|   22|  36|    6| 202|          1|        6|\n",
            "|   3|  22|   54|NULL|   77| 222|          0|       77|\n",
            "|   3|  33| NULL|  88|   66| 203|          1|       66|\n",
            "|  32|  22|   33|  61|   88| 244|          1|       88|\n",
            "|   2|  11|   46|  33|   99| 255|          1|       99|\n",
            "+----+----+-----+----+-----+----+-----------+---------+\n",
            "\n"
          ]
        }
      ]
    },
    {
      "cell_type": "code",
      "source": [
        "# filling the missing values in the dataframe with the median val\n",
        "for col_name in dataframe.columns:\n",
        "  median_val = dataframe.approxQuantile(col_name, [0.5], 0.001)[0]\n",
        "  dataframe=dataframe.fillna(median_val,subset=[col_name])"
      ],
      "metadata": {
        "id": "q-OvVe4Zvcpu"
      },
      "execution_count": 62,
      "outputs": []
    },
    {
      "cell_type": "code",
      "source": [
        "dataframe.show() # got removied and replaced with median"
      ],
      "metadata": {
        "id": "xoULGJmKv-Ej",
        "outputId": "e0d194b0-2776-4235-ce54-869a7c3b7346",
        "colab": {
          "base_uri": "https://localhost:8080/"
        }
      },
      "execution_count": 64,
      "outputs": [
        {
          "output_type": "stream",
          "name": "stdout",
          "text": [
            "+----+----+-----+----+-----+----+-----------+---------+\n",
            "|one |two |three|four|five |six |new_six_col|new_seven|\n",
            "+----+----+-----+----+-----+----+-----------+---------+\n",
            "|   1|  11|   21|  51|   52| 101|          1|       52|\n",
            "|  22|  22|   22|  22|   53| 102|          1|       53|\n",
            "|  22|  33|    3|  22|   54|1030|          1|       54|\n",
            "| 333|  44|  322|  33|   55|  22|          1|       55|\n",
            "|  22|  22|   11|  88|   56| 201|          1|       56|\n",
            "|  88|  22|   22|  36|    6| 202|          1|        6|\n",
            "|   3|  22|   54|  36|   77| 222|          0|       77|\n",
            "|   3|  33|   22|  88|   66| 203|          1|       66|\n",
            "|  32|  22|   33|  61|   88| 244|          1|       88|\n",
            "|   2|  11|   46|  33|   99| 255|          1|       99|\n",
            "+----+----+-----+----+-----+----+-----------+---------+\n",
            "\n"
          ]
        }
      ]
    },
    {
      "cell_type": "code",
      "source": [
        "# applying two filter conditions are being done .\n",
        "filtered_dataframe = dataframe.filter((col(\"three\")>20)&(col(\"new_six_col\")==1)).show()\n",
        "\n",
        "# after the filter the output is :"
      ],
      "metadata": {
        "id": "L8qi4YINv_9l",
        "outputId": "00f9d840-f94c-4940-fb70-3916cfb6eeda",
        "colab": {
          "base_uri": "https://localhost:8080/"
        }
      },
      "execution_count": 68,
      "outputs": [
        {
          "output_type": "stream",
          "name": "stdout",
          "text": [
            "+----+----+-----+----+-----+----+-----------+---------+\n",
            "|one |two |three|four|five |six |new_six_col|new_seven|\n",
            "+----+----+-----+----+-----+----+-----------+---------+\n",
            "|   1|  11|   21|  51|   52| 101|          1|       52|\n",
            "|  22|  22|   22|  22|   53| 102|          1|       53|\n",
            "| 333|  44|  322|  33|   55|  22|          1|       55|\n",
            "|  88|  22|   22|  36|    6| 202|          1|        6|\n",
            "|   3|  33|   22|  88|   66| 203|          1|       66|\n",
            "|  32|  22|   33|  61|   88| 244|          1|       88|\n",
            "|   2|  11|   46|  33|   99| 255|          1|       99|\n",
            "+----+----+-----+----+-----+----+-----------+---------+\n",
            "\n"
          ]
        }
      ]
    }
  ]
}